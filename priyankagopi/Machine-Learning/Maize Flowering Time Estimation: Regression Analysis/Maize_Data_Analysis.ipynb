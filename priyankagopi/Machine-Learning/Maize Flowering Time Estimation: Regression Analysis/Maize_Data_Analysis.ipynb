{
  "cells": [
    {
      "cell_type": "markdown",
      "metadata": {
        "id": "view-in-github",
        "colab_type": "text"
      },
      "source": [
        "<a href=\"https://colab.research.google.com/github/priankagopi/Machine-Learning/blob/main/priyankagopi/Machine-Learning/Maize%20Flowering%20Time%20Estimation%3A%20Regression%20Analysis/Maize_Data_Analysis.ipynb\" target=\"_parent\"><img src=\"https://colab.research.google.com/assets/colab-badge.svg\" alt=\"Open In Colab\"/></a>"
      ]
    },
    {
      "cell_type": "code",
      "execution_count": null,
      "metadata": {
        "colab": {
          "base_uri": "https://localhost:8080/"
        },
        "id": "o7ZF2z_-VWAo",
        "outputId": "feb9799e-97f1-41b5-c095-7ef511d19083"
      },
      "outputs": [
        {
          "name": "stdout",
          "output_type": "stream",
          "text": [
            "Mounted at /content/drive\n"
          ]
        }
      ],
      "source": [
        "from google.colab import drive\n",
        "drive.mount('/content/drive')"
      ],
      "id": "o7ZF2z_-VWAo"
    },
    {
      "cell_type": "code",
      "execution_count": null,
      "metadata": {
        "id": "15118d84"
      },
      "outputs": [],
      "source": [
        "# for general dataframe editing\n",
        "import pandas as pd\n",
        "import numpy as np\n",
        "\n",
        "# for plotting\n",
        "import matplotlib as mpl\n",
        "import matplotlib.pyplot as plt\n",
        "import seaborn as sns\n",
        "%matplotlib inline\n",
        "\n",
        "# for pca and pcr\n",
        "import scipy.stats as stats\n",
        "from sklearn.preprocessing import StandardScaler\n",
        "from sklearn.decomposition import PCA\n",
        "from sklearn.linear_model import LinearRegression\n",
        "from sklearn.ensemble import RandomForestRegressor\n",
        "from sklearn.linear_model import Lasso, Ridge\n",
        "from sklearn import model_selection\n",
        "from sklearn.model_selection import train_test_split\n",
        "from sklearn.metrics import mean_squared_error,r2_score"
      ],
      "id": "15118d84"
    },
    {
      "cell_type": "code",
      "execution_count": null,
      "metadata": {
        "colab": {
          "base_uri": "https://localhost:8080/"
        },
        "id": "77300e3b",
        "outputId": "f76a25fb-6a2b-4de1-a1b1-42b8b3cf6e4f"
      },
      "outputs": [
        {
          "name": "stdout",
          "output_type": "stream",
          "text": [
            "Warning: column count mismatch (217 + 927 != 7393)\n",
            "\n"
          ]
        },
        {
          "name": "stderr",
          "output_type": "stream",
          "text": [
            "/usr/local/lib/python3.7/dist-packages/pandas/io/sas/sas7bdat.py:800: PerformanceWarning: DataFrame is highly fragmented.  This is usually the result of calling `frame.insert` many times, which has poor performance.  Consider joining all columns at once using pd.concat(axis=1) instead.  To get a de-fragmented frame, use `newframe = frame.copy()`\n",
            "  rslt[name] = self._byte_chunk[jb, :].view(dtype=self.byte_order + \"d\")\n"
          ]
        }
      ],
      "source": [
        "data=pd.read_sas('/content/drive/MyDrive/datasets/maize.sas7bdat')\n",
        "#data = pd.read_csv(\"/content/drive/MyDrive/datasets/maize_data.csv\", sep = ';')"
      ],
      "id": "77300e3b"
    },
    {
      "cell_type": "code",
      "execution_count": null,
      "metadata": {
        "colab": {
          "base_uri": "https://localhost:8080/"
        },
        "id": "0939a84f",
        "outputId": "9cedd624-c80f-49d3-84b2-fbeb90e83b67"
      },
      "outputs": [
        {
          "data": {
            "text/plain": [
              "(4981, 7393)"
            ]
          },
          "execution_count": 4,
          "metadata": {},
          "output_type": "execute_result"
        }
      ],
      "source": [
        "# get the shape of the data to verify the shape\n",
        "data.shape"
      ],
      "id": "0939a84f"
    },
    {
      "cell_type": "code",
      "execution_count": null,
      "metadata": {
        "colab": {
          "base_uri": "https://localhost:8080/"
        },
        "id": "2cc0e08c",
        "outputId": "821a3922-c584-460b-d3f6-27c9d68f5ead"
      },
      "outputs": [
        {
          "data": {
            "text/plain": [
              "array([dtype('O'), dtype('float64')], dtype=object)"
            ]
          },
          "execution_count": 5,
          "metadata": {},
          "output_type": "execute_result"
        }
      ],
      "source": [
        "data.dtypes.unique()"
      ],
      "id": "2cc0e08c"
    },
    {
      "cell_type": "code",
      "execution_count": null,
      "metadata": {
        "id": "f7ae42c7"
      },
      "outputs": [],
      "source": [
        "# This is done for a reason, as there are couple of columns that have a combination of strings and floats as it's datatype\n",
        "# But it entirely showcases as type String\n",
        "for j in data.columns:\n",
        "    if j not in ['pop','DtoA','Geno_Code','Entry']:\n",
        "        for i in range(data[j].shape[0]):\n",
        "            if isinstance(data[j].iloc[i],str):\n",
        "                if len(data[j].iloc[i].split(','))==2:\n",
        "                    data[j].iloc[i]=data[j].iloc[i].replace(',','.')\n",
        "        data[j]=pd.to_numeric(data[j],errors='coerce').astype('float64')"
      ],
      "id": "f7ae42c7"
    },
    {
      "cell_type": "code",
      "execution_count": null,
      "metadata": {
        "id": "a0e2765b"
      },
      "outputs": [],
      "source": [
        "for i in range(data['DtoA'].shape[0]):\n",
        "    if isinstance(data['DtoA'].iloc[i],str):\n",
        "        if len(data['DtoA'].iloc[i].split(','))==2:\n",
        "            data['DtoA'].iloc[i]=data['DtoA'].iloc[i].replace(',','.')"
      ],
      "id": "a0e2765b"
    },
    {
      "cell_type": "code",
      "execution_count": null,
      "metadata": {
        "id": "252ed282"
      },
      "outputs": [],
      "source": [
        "data['DtoA']=pd.to_numeric(data['DtoA'],errors='coerce').astype('float64')"
      ],
      "id": "252ed282"
    },
    {
      "cell_type": "code",
      "execution_count": null,
      "metadata": {
        "colab": {
          "base_uri": "https://localhost:8080/"
        },
        "id": "c1e3b7f3",
        "outputId": "b0772757-c61b-49a8-906a-ce666de580ad"
      },
      "outputs": [
        {
          "name": "stdout",
          "output_type": "stream",
          "text": [
            "0       1.0\n",
            "1       2.0\n",
            "2       0.0\n",
            "3       0.0\n",
            "4       2.0\n",
            "       ... \n",
            "4976    0.0\n",
            "4977    2.0\n",
            "4978    1.0\n",
            "4979    2.0\n",
            "4980    0.0\n",
            "Name: m5, Length: 4981, dtype: float64\n"
          ]
        }
      ],
      "source": [
        "print(data['m5'])"
      ],
      "id": "c1e3b7f3"
    },
    {
      "cell_type": "code",
      "execution_count": null,
      "metadata": {
        "colab": {
          "base_uri": "https://localhost:8080/"
        },
        "id": "948b239d",
        "outputId": "d4694840-61ec-4d63-f179-4161e74fcb64"
      },
      "outputs": [
        {
          "data": {
            "text/plain": [
              "0          0\n",
              "1          1\n",
              "2          2\n",
              "3          3\n",
              "4          4\n",
              "        ... \n",
              "4976    4976\n",
              "4977    4977\n",
              "4978    4978\n",
              "4979    4979\n",
              "4980    4980\n",
              "Length: 4981, dtype: int16"
            ]
          },
          "execution_count": 11,
          "metadata": {},
          "output_type": "execute_result"
        }
      ],
      "source": [
        "data.Geno_Code.astype('category').cat.codes"
      ],
      "id": "948b239d"
    },
    {
      "cell_type": "code",
      "execution_count": null,
      "metadata": {
        "id": "4d6a18b4"
      },
      "outputs": [],
      "source": [
        "data['Geno_Code']=data.Geno_Code.astype('category').cat.codes"
      ],
      "id": "4d6a18b4"
    },
    {
      "cell_type": "code",
      "execution_count": null,
      "metadata": {
        "colab": {
          "base_uri": "https://localhost:8080/"
        },
        "id": "aac42a4f",
        "outputId": "9fbef24e-fb34-4c9e-fe22-c6197c6d7718"
      },
      "outputs": [
        {
          "data": {
            "text/plain": [
              "array([dtype('int16'), dtype('float64')], dtype=object)"
            ]
          },
          "execution_count": 13,
          "metadata": {},
          "output_type": "execute_result"
        }
      ],
      "source": [
        "data.dtypes.unique()"
      ],
      "id": "aac42a4f"
    },
    {
      "cell_type": "code",
      "execution_count": null,
      "metadata": {
        "colab": {
          "base_uri": "https://localhost:8080/"
        },
        "id": "8977a987",
        "outputId": "d82ac25c-0b2a-47f6-9693-242cdcf0d223"
      },
      "outputs": [
        {
          "data": {
            "text/plain": [
              "(4494, 7393)"
            ]
          },
          "execution_count": 29,
          "metadata": {},
          "output_type": "execute_result"
        }
      ],
      "source": [
        "# new_data3 is the data with all the data in required datatype format\n",
        "# But we need to check for any null values\n",
        "data.shape"
      ],
      "id": "8977a987"
    },
    {
      "cell_type": "code",
      "execution_count": null,
      "metadata": {
        "colab": {
          "base_uri": "https://localhost:8080/"
        },
        "id": "6a572d76",
        "outputId": "c5cedd18-09b7-4193-bc23-9a945fe1a485"
      },
      "outputs": [
        {
          "data": {
            "text/plain": [
              "(4494, 7393)"
            ]
          },
          "execution_count": 31,
          "metadata": {},
          "output_type": "execute_result"
        }
      ],
      "source": [
        "data.dropna(axis=0,inplace=True)\n",
        "data.shape"
      ],
      "id": "6a572d76"
    },
    {
      "cell_type": "code",
      "execution_count": null,
      "metadata": {
        "colab": {
          "base_uri": "https://localhost:8080/"
        },
        "id": "be5e88ba",
        "outputId": "47a46644-0d19-4532-9a56-0ad210b2af17"
      },
      "outputs": [
        {
          "data": {
            "text/plain": [
              "(4494, 7393)"
            ]
          },
          "execution_count": 17,
          "metadata": {},
          "output_type": "execute_result"
        }
      ],
      "source": [
        "# Looking at the data, it seems like whent the data was cleaned , there were less than 50% data left out\n",
        "# So lets look into the amount of nan's in each of the columns\n",
        "data.shape"
      ],
      "id": "be5e88ba"
    },
    {
      "cell_type": "code",
      "execution_count": null,
      "metadata": {
        "colab": {
          "base_uri": "https://localhost:8080/"
        },
        "id": "bd1a5020",
        "outputId": "73209c3a-57c8-4e88-c5b0-a0b06831ec4a"
      },
      "outputs": [
        {
          "name": "stdout",
          "output_type": "stream",
          "text": [
            "486.7365075071013\n"
          ]
        }
      ],
      "source": [
        "# It seems like there were an average of 489 nan/null values in each of the columns\n",
        "nan_val=[]\n",
        "for i in orig.columns:\n",
        "    nan_val.append(orig[i].isnull().values.sum())\n",
        "print(sum(nan_val)/len(nan_val))"
      ],
      "id": "bd1a5020"
    },
    {
      "cell_type": "code",
      "execution_count": null,
      "metadata": {
        "colab": {
          "base_uri": "https://localhost:8080/",
          "height": 282
        },
        "id": "3aa81512",
        "outputId": "8f5bf20b-4078-4045-c9f3-e3338ba50a46"
      },
      "outputs": [
        {
          "data": {
            "text/plain": [
              "[<matplotlib.lines.Line2D at 0x7f9a781526d0>]"
            ]
          },
          "execution_count": 19,
          "metadata": {},
          "output_type": "execute_result"
        },
        {
          "data": {
            "image/png": "[encoded data removed]",
            "text/plain": [
              "<Figure size 432x288 with 1 Axes>"
            ]
          },
          "metadata": {},
          "output_type": "display_data"
        }
      ],
      "source": [
        "# Here we are trying see the variation of DtoA for every entry in the dataset \n",
        "y1=data.DtoA.values\n",
        "x1=data.Geno_Code.values \n",
        "plt.plot(x1,y1)"
      ],
      "id": "3aa81512"
    },
    {
      "cell_type": "code",
      "execution_count": null,
      "metadata": {
        "colab": {
          "base_uri": "https://localhost:8080/",
          "height": 354
        },
        "id": "386e6932",
        "outputId": "1c7157c1-0242-41cf-aada-005b6eaf6991"
      },
      "outputs": [
        {
          "name": "stderr",
          "output_type": "stream",
          "text": [
            "/usr/local/lib/python3.7/dist-packages/seaborn/distributions.py:2619: FutureWarning: `distplot` is a deprecated function and will be removed in a future version. Please adapt your code to use either `displot` (a figure-level function with similar flexibility) or `histplot` (an axes-level function for histograms).\n",
            "  warnings.warn(msg, FutureWarning)\n"
          ]
        },
        {
          "data": {
            "text/plain": [
              "<matplotlib.axes._subplots.AxesSubplot at 0x7f9a780c99d0>"
            ]
          },
          "execution_count": 22,
          "metadata": {},
          "output_type": "execute_result"
        },
        {
          "data": {
            "image/png": "[encoded data removed]",
            "text/plain": [
              "<Figure size 432x288 with 1 Axes>"
            ]
          },
          "metadata": {},
          "output_type": "display_data"
        }
      ],
      "source": [
        "# Get the dist plot for DtoA\n",
        "sns.distplot(data['DtoA'],color=\"blue\") "
      ],
      "id": "386e6932"
    },
    {
      "cell_type": "code",
      "execution_count": null,
      "metadata": {
        "id": "QTsi-sxnCWjV"
      },
      "outputs": [],
      "source": [
        "data.duplicated().sum()\n",
        "data.drop_duplicates(inplace=True)"
      ],
      "id": "QTsi-sxnCWjV"
    },
    {
      "cell_type": "code",
      "execution_count": null,
      "metadata": {
        "id": "hFDuKThQ87rJ"
      },
      "outputs": [],
      "source": [
        "correlation_threshhold = 0.015\n",
        "\n",
        "corr = pd.DataFrame(data.corr()['DtoA'])\n",
        "corr['abs'] = np.abs(corr['DtoA'])\n",
        "corr = corr.sort_values(by='abs',ascending=False).drop('abs',axis=1).dropna().reset_index()\n",
        "corr = corr.rename(columns={'index':'feature','DtoA':'corr'}).loc[1:]\n",
        "\n",
        "low_correlated_features = list(corr[np.abs(corr['corr'])<=correlation_threshhold]['feature'])\n",
        "data.drop(low_correlated_features,axis=1,inplace=True)\n",
        "data.shape"
      ],
      "id": "hFDuKThQ87rJ"
    },
    {
      "cell_type": "markdown",
      "metadata": {
        "id": "kDw7_UG9dzjX"
      },
      "source": [
        "**Data Modelling**"
      ],
      "id": "kDw7_UG9dzjX"
    },
    {
      "cell_type": "code",
      "execution_count": null,
      "metadata": {
        "colab": {
          "base_uri": "https://localhost:8080/"
        },
        "id": "JgvWsYlNUyL3",
        "outputId": "c1578cbb-1698-40f3-bcc3-cb9008b9a6f8"
      },
      "outputs": [
        {
          "name": "stdout",
          "output_type": "stream",
          "text": [
            "(4494, 7392) (4494,)\n"
          ]
        }
      ],
      "source": [
        "X = data.drop('DtoA',axis=1)\n",
        "y = data['DtoA']\n",
        "print(X.shape,y.shape)"
      ],
      "id": "JgvWsYlNUyL3"
    },
    {
      "cell_type": "code",
      "execution_count": null,
      "metadata": {
        "colab": {
          "background_save": true
        },
        "id": "TEDzjKPv4T53",
        "outputId": "a1511d85-e43d-49c0-b823-355cb29f7e98"
      },
      "outputs": [
        {
          "name": "stderr",
          "output_type": "stream",
          "text": [
            "/usr/local/lib/python3.7/dist-packages/seaborn/distributions.py:2619: FutureWarning: `distplot` is a deprecated function and will be removed in a future version. Please adapt your code to use either `displot` (a figure-level function with similar flexibility) or `histplot` (an axes-level function for histograms).\n",
            "  warnings.warn(msg, FutureWarning)\n"
          ]
        },
        {
          "data": {
            "text/plain": [
              "(0.0, 180.0)"
            ]
          },
          "execution_count": 52,
          "metadata": {},
          "output_type": "execute_result"
        },
        {
          "data": {
            "image/png": "[encoded data removed]",
            "text/plain": [
              "<Figure size 1080x432 with 2 Axes>"
            ]
          },
          "metadata": {},
          "output_type": "display_data"
        }
      ],
      "source": [
        "plt.figure(figsize=(15,6))\n",
        "plt.subplot(1,2,1)\n",
        "plt.title('Histogram of DtoA a.k.a, Flowering time',fontsize=18)\n",
        "ax1 = sns.distplot(y, kde=False)\n",
        "# Creating another Y axis\n",
        "second_ax1 = ax1.twinx()\n",
        "#Plotting kde without hist on the second Y axis\n",
        "sns.distplot(y, ax=second_ax1, kde=True, hist=True,color=\"green\")\n",
        "#Removing Y ticks from the second axis\n",
        "second_ax1.set_yticks([])\n",
        "ax1.set_ylabel('count',fontsize=18)\n",
        "ax1.set_xlabel('DtoA',fontsize=18)\n",
        "plt.xlim(0,180)"
      ],
      "id": "TEDzjKPv4T53"
    },
    {
      "cell_type": "code",
      "execution_count": null,
      "metadata": {
        "id": "LG7vhSMQU1Rv"
      },
      "outputs": [],
      "source": [
        "#split the data into training and test batches\n",
        "X_train,X_test,Y_train,Y_test=train_test_split(X,y,test_size=0.3,random_state=21)"
      ],
      "id": "LG7vhSMQU1Rv"
    },
    {
      "cell_type": "code",
      "execution_count": null,
      "metadata": {
        "colab": {
          "base_uri": "https://localhost:8080/"
        },
        "id": "mtCRZ-XHf00N",
        "outputId": "45744694-b2d1-4fc9-d134-faacb2b03e08"
      },
      "outputs": [
        {
          "name": "stdout",
          "output_type": "stream",
          "text": [
            "<class 'numpy.ndarray'>\n",
            "(3145, 7392)\n"
          ]
        }
      ],
      "source": [
        "#normalize the data\n",
        "scaler=StandardScaler()\n",
        "scaled_X_train=scaler.fit_transform(X_train)\n",
        "scaled_X_test=scaler.transform(X_test)\n",
        "print(type(scaled_X_train))\n",
        "print(scaled_X_train.shape)"
      ],
      "id": "mtCRZ-XHf00N"
    },
    {
      "cell_type": "code",
      "execution_count": null,
      "metadata": {
        "colab": {
          "base_uri": "https://localhost:8080/"
        },
        "id": "-ToQJ8_OU66K",
        "outputId": "d0d92a3d-4fc2-42ed-e4f6-f394abbf302e"
      },
      "outputs": [
        {
          "name": "stdout",
          "output_type": "stream",
          "text": [
            "4880    78.1895\n",
            "1713    79.0906\n",
            "2148    73.1738\n",
            "4452    66.7834\n",
            "1578    84.1332\n",
            "3455    70.4747\n",
            "3036    80.3699\n",
            "2735    74.7629\n",
            "3580    73.4012\n",
            "2111    72.0632\n",
            "Name: DtoA, dtype: float64\n",
            "[62.70700757 77.12461274 72.83196479 68.93656726 78.36538232 94.17532888\n",
            " 84.87806795 75.70639644 81.91285593 74.03905134]\n",
            "The intercept : 77.12064464228935\n",
            "\n",
            " The co-efficients are:\n",
            " [-0.65593792 -0.49608933 -0.42681711 ...  0.15267091  0.15267091\n",
            "  0.18377019]\n",
            "The RMSE is : 6.366577400526908\n",
            "The R2 score: -2.0984954047816142\n"
          ]
        }
      ],
      "source": [
        "#Linear regression\n",
        "linear_model=LinearRegression()\n",
        "linear_model.fit(scaled_X_train,Y_train)\n",
        "Y_predicted=linear_model.predict(scaled_X_test)\n",
        "print(Y_test.iloc[5:15,])\n",
        "print(Y_predicted[5:15])\n",
        "\n",
        "print(\"The intercept :\",linear_model.intercept_)\n",
        "print(\"\\n The co-efficients are:\\n\",linear_model.coef_)\n",
        "mse=mean_squared_error(Y_test,Y_predicted)\n",
        "rmse=np.sqrt(mse)\n",
        "print(\"The RMSE is :\",rmse)\n",
        "print(\"The R2 score:\",r2_score(Y_test,Y_predicted))"
      ],
      "id": "-ToQJ8_OU66K"
    },
    {
      "cell_type": "code",
      "execution_count": null,
      "metadata": {
        "colab": {
          "base_uri": "https://localhost:8080/"
        },
        "id": "rVKVP_td7-f2",
        "outputId": "b1e275ea-c8df-4044-d9eb-e54ccfb7a180"
      },
      "outputs": [
        {
          "output_type": "stream",
          "name": "stdout",
          "text": [
            "  cols       val\n",
            "0   R2  0.748480\n",
            "1  MSE  3.471469\n",
            "  cols       val\n",
            "0   R2  0.756419\n",
            "1  MSE  3.361900\n",
            "  cols       val\n",
            "0   R2  0.771913\n",
            "1  MSE  3.148047\n",
            "  cols       val\n",
            "0   R2  0.774176\n",
            "1  MSE  3.116818\n",
            "  cols       val\n",
            "0   R2  0.769297\n",
            "1  MSE  3.184150\n",
            "[3.4714692640415814, 3.3619003205070297, 3.1480466670534617, 3.116817908064382, 3.1841501043871183]\n",
            "[0.7484800814750311, 0.7564187292505244, 0.7719131638549336, 0.7741757951269226, 0.7692973453279792]\n"
          ]
        }
      ],
      "source": [
        "from sklearn.feature_selection import SelectKBest\n",
        "from sklearn.feature_selection import f_regression # Is a correlation calculator\n",
        "from scipy.stats import spearmanr\n",
        "from sklearn.model_selection import train_test_split\n",
        "from sklearn.preprocessing import StandardScaler\n",
        "from sklearn.metrics import mean_squared_error,r2_score\n",
        "\n",
        "#first let's get the required number of varibles for modelling through pearson's correlation\n",
        "k=[1000,2000,4000,5000,7000]\n",
        "lmse=[]\n",
        "lr2=[]\n",
        "for i in k:\n",
        "    corr_data = SelectKBest(f_regression, k=i).fit(X, y)\n",
        "    indices=corr_data.get_support()\n",
        "    corr_features= X.columns.values[indices]\n",
        "\n",
        "    corr_features_data= data.loc[:,corr_features]\n",
        "    corr_feature_label=data['DtoA']\n",
        "\n",
        "    X_train, X_test, y_train, y_test = train_test_split(corr_features_data,corr_feature_label, test_size=0.2, random_state=1)\n",
        "\n",
        "    corr_regr = RandomForestRegressor()\n",
        "\n",
        "    corr_reg = corr_regr.fit(X_train,y_train)\n",
        "    corr_pred = corr_regr.predict(X_test)\n",
        "\n",
        "    #Get the required metric to understand performance of the trained model\n",
        "    R2 = r2_score(y_test, corr_pred)\n",
        "    mse = mean_squared_error(y_test, corr_pred)\n",
        "    acc = 100*max(0,mse)\n",
        "    lmse.append(mse)\n",
        "    lr2.append(R2)\n",
        "\n",
        "    table=pd.DataFrame({'cols':['R2','MSE'],'val':[R2,mse]})\n",
        "    print(table)\n",
        "\n",
        "print(lmse)\n",
        "print(lr2)"
      ],
      "id": "rVKVP_td7-f2"
    },
    {
      "cell_type": "code",
      "execution_count": null,
      "metadata": {
        "colab": {
          "base_uri": "https://localhost:8080/",
          "height": 380
        },
        "id": "4FvvI4albIjG",
        "outputId": "fccfbbe7-6611-4aef-9ac6-a39a086b36d5"
      },
      "outputs": [
        {
          "output_type": "error",
          "ename": "ValueError",
          "evalue": "ignored",
          "traceback": [
            "\u001b[0;31m---------------------------------------------------------------------------\u001b[0m",
            "\u001b[0;31mValueError\u001b[0m                                Traceback (most recent call last)",
            "\u001b[0;32m<ipython-input-53-34c02f6402cd>\u001b[0m in \u001b[0;36m<module>\u001b[0;34m\u001b[0m\n\u001b[1;32m      1\u001b[0m \u001b[0mRidgeReg\u001b[0m \u001b[0;34m=\u001b[0m \u001b[0mRidge\u001b[0m\u001b[0;34m(\u001b[0m\u001b[0malpha\u001b[0m\u001b[0;34m=\u001b[0m\u001b[0;36m0.01\u001b[0m\u001b[0;34m)\u001b[0m\u001b[0;34m\u001b[0m\u001b[0;34m\u001b[0m\u001b[0m\n\u001b[0;32m----> 2\u001b[0;31m \u001b[0mRidgeReg\u001b[0m\u001b[0;34m.\u001b[0m\u001b[0mfit\u001b[0m\u001b[0;34m(\u001b[0m\u001b[0mX_train\u001b[0m\u001b[0;34m,\u001b[0m \u001b[0mY_train\u001b[0m\u001b[0;34m)\u001b[0m\u001b[0;34m\u001b[0m\u001b[0;34m\u001b[0m\u001b[0m\n\u001b[0m\u001b[1;32m      3\u001b[0m \u001b[0mY_pred_train\u001b[0m\u001b[0;34m=\u001b[0m \u001b[0mRidgeReg\u001b[0m\u001b[0;34m.\u001b[0m\u001b[0mpredict\u001b[0m\u001b[0;34m(\u001b[0m\u001b[0mX_train\u001b[0m\u001b[0;34m)\u001b[0m\u001b[0;34m\u001b[0m\u001b[0;34m\u001b[0m\u001b[0m\n\u001b[1;32m      4\u001b[0m \u001b[0mprint\u001b[0m\u001b[0;34m(\u001b[0m\u001b[0mnp\u001b[0m\u001b[0;34m.\u001b[0m\u001b[0msqrt\u001b[0m\u001b[0;34m(\u001b[0m\u001b[0mmean_squared_error\u001b[0m\u001b[0;34m(\u001b[0m\u001b[0mY_train\u001b[0m\u001b[0;34m,\u001b[0m\u001b[0mY_pred_train\u001b[0m\u001b[0;34m)\u001b[0m\u001b[0;34m)\u001b[0m\u001b[0;34m)\u001b[0m\u001b[0;34m\u001b[0m\u001b[0;34m\u001b[0m\u001b[0m\n\u001b[1;32m      5\u001b[0m \u001b[0mprint\u001b[0m\u001b[0;34m(\u001b[0m\u001b[0mr2_score\u001b[0m\u001b[0;34m(\u001b[0m\u001b[0mY_train\u001b[0m\u001b[0;34m,\u001b[0m \u001b[0mY_pred_train\u001b[0m\u001b[0;34m)\u001b[0m\u001b[0;34m)\u001b[0m\u001b[0;34m\u001b[0m\u001b[0;34m\u001b[0m\u001b[0m\n",
            "\u001b[0;32m/usr/local/lib/python3.7/dist-packages/sklearn/linear_model/_ridge.py\u001b[0m in \u001b[0;36mfit\u001b[0;34m(self, X, y, sample_weight)\u001b[0m\n\u001b[1;32m   1007\u001b[0m             \u001b[0mdtype\u001b[0m\u001b[0;34m=\u001b[0m\u001b[0;34m[\u001b[0m\u001b[0mnp\u001b[0m\u001b[0;34m.\u001b[0m\u001b[0mfloat64\u001b[0m\u001b[0;34m,\u001b[0m \u001b[0mnp\u001b[0m\u001b[0;34m.\u001b[0m\u001b[0mfloat32\u001b[0m\u001b[0;34m]\u001b[0m\u001b[0;34m,\u001b[0m\u001b[0;34m\u001b[0m\u001b[0;34m\u001b[0m\u001b[0m\n\u001b[1;32m   1008\u001b[0m             \u001b[0mmulti_output\u001b[0m\u001b[0;34m=\u001b[0m\u001b[0;32mTrue\u001b[0m\u001b[0;34m,\u001b[0m\u001b[0;34m\u001b[0m\u001b[0;34m\u001b[0m\u001b[0m\n\u001b[0;32m-> 1009\u001b[0;31m             \u001b[0my_numeric\u001b[0m\u001b[0;34m=\u001b[0m\u001b[0;32mTrue\u001b[0m\u001b[0;34m,\u001b[0m\u001b[0;34m\u001b[0m\u001b[0;34m\u001b[0m\u001b[0m\n\u001b[0m\u001b[1;32m   1010\u001b[0m         )\n\u001b[1;32m   1011\u001b[0m         \u001b[0;32mreturn\u001b[0m \u001b[0msuper\u001b[0m\u001b[0;34m(\u001b[0m\u001b[0;34m)\u001b[0m\u001b[0;34m.\u001b[0m\u001b[0mfit\u001b[0m\u001b[0;34m(\u001b[0m\u001b[0mX\u001b[0m\u001b[0;34m,\u001b[0m \u001b[0my\u001b[0m\u001b[0;34m,\u001b[0m \u001b[0msample_weight\u001b[0m\u001b[0;34m=\u001b[0m\u001b[0msample_weight\u001b[0m\u001b[0;34m)\u001b[0m\u001b[0;34m\u001b[0m\u001b[0;34m\u001b[0m\u001b[0m\n",
            "\u001b[0;32m/usr/local/lib/python3.7/dist-packages/sklearn/base.py\u001b[0m in \u001b[0;36m_validate_data\u001b[0;34m(self, X, y, reset, validate_separately, **check_params)\u001b[0m\n\u001b[1;32m    579\u001b[0m                 \u001b[0my\u001b[0m \u001b[0;34m=\u001b[0m \u001b[0mcheck_array\u001b[0m\u001b[0;34m(\u001b[0m\u001b[0my\u001b[0m\u001b[0;34m,\u001b[0m \u001b[0;34m**\u001b[0m\u001b[0mcheck_y_params\u001b[0m\u001b[0;34m)\u001b[0m\u001b[0;34m\u001b[0m\u001b[0;34m\u001b[0m\u001b[0m\n\u001b[1;32m    580\u001b[0m             \u001b[0;32melse\u001b[0m\u001b[0;34m:\u001b[0m\u001b[0;34m\u001b[0m\u001b[0;34m\u001b[0m\u001b[0m\n\u001b[0;32m--> 581\u001b[0;31m                 \u001b[0mX\u001b[0m\u001b[0;34m,\u001b[0m \u001b[0my\u001b[0m \u001b[0;34m=\u001b[0m \u001b[0mcheck_X_y\u001b[0m\u001b[0;34m(\u001b[0m\u001b[0mX\u001b[0m\u001b[0;34m,\u001b[0m \u001b[0my\u001b[0m\u001b[0;34m,\u001b[0m \u001b[0;34m**\u001b[0m\u001b[0mcheck_params\u001b[0m\u001b[0;34m)\u001b[0m\u001b[0;34m\u001b[0m\u001b[0;34m\u001b[0m\u001b[0m\n\u001b[0m\u001b[1;32m    582\u001b[0m             \u001b[0mout\u001b[0m \u001b[0;34m=\u001b[0m \u001b[0mX\u001b[0m\u001b[0;34m,\u001b[0m \u001b[0my\u001b[0m\u001b[0;34m\u001b[0m\u001b[0;34m\u001b[0m\u001b[0m\n\u001b[1;32m    583\u001b[0m \u001b[0;34m\u001b[0m\u001b[0m\n",
            "\u001b[0;32m/usr/local/lib/python3.7/dist-packages/sklearn/utils/validation.py\u001b[0m in \u001b[0;36mcheck_X_y\u001b[0;34m(X, y, accept_sparse, accept_large_sparse, dtype, order, copy, force_all_finite, ensure_2d, allow_nd, multi_output, ensure_min_samples, ensure_min_features, y_numeric, estimator)\u001b[0m\n\u001b[1;32m    979\u001b[0m     \u001b[0my\u001b[0m \u001b[0;34m=\u001b[0m \u001b[0m_check_y\u001b[0m\u001b[0;34m(\u001b[0m\u001b[0my\u001b[0m\u001b[0;34m,\u001b[0m \u001b[0mmulti_output\u001b[0m\u001b[0;34m=\u001b[0m\u001b[0mmulti_output\u001b[0m\u001b[0;34m,\u001b[0m \u001b[0my_numeric\u001b[0m\u001b[0;34m=\u001b[0m\u001b[0my_numeric\u001b[0m\u001b[0;34m)\u001b[0m\u001b[0;34m\u001b[0m\u001b[0;34m\u001b[0m\u001b[0m\n\u001b[1;32m    980\u001b[0m \u001b[0;34m\u001b[0m\u001b[0m\n\u001b[0;32m--> 981\u001b[0;31m     \u001b[0mcheck_consistent_length\u001b[0m\u001b[0;34m(\u001b[0m\u001b[0mX\u001b[0m\u001b[0;34m,\u001b[0m \u001b[0my\u001b[0m\u001b[0;34m)\u001b[0m\u001b[0;34m\u001b[0m\u001b[0;34m\u001b[0m\u001b[0m\n\u001b[0m\u001b[1;32m    982\u001b[0m \u001b[0;34m\u001b[0m\u001b[0m\n\u001b[1;32m    983\u001b[0m     \u001b[0;32mreturn\u001b[0m \u001b[0mX\u001b[0m\u001b[0;34m,\u001b[0m \u001b[0my\u001b[0m\u001b[0;34m\u001b[0m\u001b[0;34m\u001b[0m\u001b[0m\n",
            "\u001b[0;32m/usr/local/lib/python3.7/dist-packages/sklearn/utils/validation.py\u001b[0m in \u001b[0;36mcheck_consistent_length\u001b[0;34m(*arrays)\u001b[0m\n\u001b[1;32m    332\u001b[0m         raise ValueError(\n\u001b[1;32m    333\u001b[0m             \u001b[0;34m\"Found input variables with inconsistent numbers of samples: %r\"\u001b[0m\u001b[0;34m\u001b[0m\u001b[0;34m\u001b[0m\u001b[0m\n\u001b[0;32m--> 334\u001b[0;31m             \u001b[0;34m%\u001b[0m \u001b[0;34m[\u001b[0m\u001b[0mint\u001b[0m\u001b[0;34m(\u001b[0m\u001b[0ml\u001b[0m\u001b[0;34m)\u001b[0m \u001b[0;32mfor\u001b[0m \u001b[0ml\u001b[0m \u001b[0;32min\u001b[0m \u001b[0mlengths\u001b[0m\u001b[0;34m]\u001b[0m\u001b[0;34m\u001b[0m\u001b[0;34m\u001b[0m\u001b[0m\n\u001b[0m\u001b[1;32m    335\u001b[0m         )\n\u001b[1;32m    336\u001b[0m \u001b[0;34m\u001b[0m\u001b[0m\n",
            "\u001b[0;31mValueError\u001b[0m: Found input variables with inconsistent numbers of samples: [3595, 3145]"
          ]
        }
      ],
      "source": [
        "RidgeReg = Ridge(alpha=0.01)\n",
        "RidgeReg.fit(X_train, y_train) \n",
        "Y_pred_train= RidgeReg.predict(X_train)\n",
        "print(np.sqrt(mean_squared_error(y_train,Y_pred_train)))\n",
        "print(r2_score(y_train, Y_pred_train))\n",
        "\n",
        "Y_pred_test= RidgeReg.predict(X_test)\n",
        "print(np.sqrt(mean_squared_error(y_test,Y_pred_test))) \n",
        "print(r2_score(y_test, Y_pred_test))"
      ],
      "id": "4FvvI4albIjG"
    },
    {
      "cell_type": "code",
      "execution_count": null,
      "metadata": {
        "colab": {
          "base_uri": "https://localhost:8080/",
          "height": 488
        },
        "id": "vBQ6KXTOhxhq",
        "outputId": "c11d0b93-ee87-4763-f687-7add4096230e"
      },
      "outputs": [
        {
          "data": {
            "text/html": [
              "\n",
              "  <div id=\"df-7f958dd5-1617-465a-b509-bddd4a15ca58\">\n",
              "    <div class=\"colab-df-container\">\n",
              "      <div>\n",
              "<style scoped>\n",
              "    .dataframe tbody tr th:only-of-type {\n",
              "        vertical-align: middle;\n",
              "    }\n",
              "\n",
              "    .dataframe tbody tr th {\n",
              "        vertical-align: top;\n",
              "    }\n",
              "\n",
              "    .dataframe thead th {\n",
              "        text-align: right;\n",
              "    }\n",
              "</style>\n",
              "<table border=\"1\" class=\"dataframe\">\n",
              "  <thead>\n",
              "    <tr style=\"text-align: right;\">\n",
              "      <th></th>\n",
              "      <th>Geno_Code</th>\n",
              "      <th>pop</th>\n",
              "      <th>m1</th>\n",
              "      <th>m2</th>\n",
              "      <th>m3</th>\n",
              "      <th>m4</th>\n",
              "      <th>m5</th>\n",
              "      <th>m6</th>\n",
              "      <th>m7</th>\n",
              "      <th>m8</th>\n",
              "      <th>...</th>\n",
              "      <th>m7264</th>\n",
              "      <th>m7265</th>\n",
              "      <th>m7266</th>\n",
              "      <th>m7267</th>\n",
              "      <th>m7268</th>\n",
              "      <th>m7269</th>\n",
              "      <th>m7270</th>\n",
              "      <th>m7271</th>\n",
              "      <th>m7272</th>\n",
              "      <th>DtoA</th>\n",
              "    </tr>\n",
              "  </thead>\n",
              "  <tbody>\n",
              "    <tr>\n",
              "      <th>Geno_Code</th>\n",
              "      <td>1.000000</td>\n",
              "      <td>0.999206</td>\n",
              "      <td>-0.013451</td>\n",
              "      <td>-0.013422</td>\n",
              "      <td>-0.013394</td>\n",
              "      <td>-0.013399</td>\n",
              "      <td>-0.013409</td>\n",
              "      <td>-0.013419</td>\n",
              "      <td>-0.013428</td>\n",
              "      <td>-0.013438</td>\n",
              "      <td>...</td>\n",
              "      <td>-0.019159</td>\n",
              "      <td>-0.018285</td>\n",
              "      <td>-0.020289</td>\n",
              "      <td>-0.019481</td>\n",
              "      <td>-0.019921</td>\n",
              "      <td>-0.020715</td>\n",
              "      <td>-0.021080</td>\n",
              "      <td>-0.022103</td>\n",
              "      <td>-0.023618</td>\n",
              "      <td>-0.287612</td>\n",
              "    </tr>\n",
              "    <tr>\n",
              "      <th>pop</th>\n",
              "      <td>0.999206</td>\n",
              "      <td>1.000000</td>\n",
              "      <td>-0.013314</td>\n",
              "      <td>-0.013285</td>\n",
              "      <td>-0.013257</td>\n",
              "      <td>-0.013260</td>\n",
              "      <td>-0.013269</td>\n",
              "      <td>-0.013278</td>\n",
              "      <td>-0.013286</td>\n",
              "      <td>-0.013294</td>\n",
              "      <td>...</td>\n",
              "      <td>-0.019775</td>\n",
              "      <td>-0.018910</td>\n",
              "      <td>-0.021021</td>\n",
              "      <td>-0.020229</td>\n",
              "      <td>-0.020637</td>\n",
              "      <td>-0.021497</td>\n",
              "      <td>-0.021826</td>\n",
              "      <td>-0.022849</td>\n",
              "      <td>-0.024338</td>\n",
              "      <td>-0.287965</td>\n",
              "    </tr>\n",
              "    <tr>\n",
              "      <th>m1</th>\n",
              "      <td>-0.013451</td>\n",
              "      <td>-0.013314</td>\n",
              "      <td>1.000000</td>\n",
              "      <td>0.999999</td>\n",
              "      <td>0.999997</td>\n",
              "      <td>0.999988</td>\n",
              "      <td>0.999965</td>\n",
              "      <td>0.999929</td>\n",
              "      <td>0.999879</td>\n",
              "      <td>0.999814</td>\n",
              "      <td>...</td>\n",
              "      <td>0.019879</td>\n",
              "      <td>0.020081</td>\n",
              "      <td>0.021601</td>\n",
              "      <td>0.021383</td>\n",
              "      <td>0.017694</td>\n",
              "      <td>0.016762</td>\n",
              "      <td>0.016521</td>\n",
              "      <td>0.017248</td>\n",
              "      <td>0.018115</td>\n",
              "      <td>0.015460</td>\n",
              "    </tr>\n",
              "    <tr>\n",
              "      <th>m2</th>\n",
              "      <td>-0.013422</td>\n",
              "      <td>-0.013285</td>\n",
              "      <td>0.999999</td>\n",
              "      <td>1.000000</td>\n",
              "      <td>0.999999</td>\n",
              "      <td>0.999992</td>\n",
              "      <td>0.999971</td>\n",
              "      <td>0.999937</td>\n",
              "      <td>0.999888</td>\n",
              "      <td>0.999825</td>\n",
              "      <td>...</td>\n",
              "      <td>0.019859</td>\n",
              "      <td>0.020062</td>\n",
              "      <td>0.021581</td>\n",
              "      <td>0.021364</td>\n",
              "      <td>0.017675</td>\n",
              "      <td>0.016743</td>\n",
              "      <td>0.016501</td>\n",
              "      <td>0.017229</td>\n",
              "      <td>0.018095</td>\n",
              "      <td>0.015470</td>\n",
              "    </tr>\n",
              "    <tr>\n",
              "      <th>m3</th>\n",
              "      <td>-0.013394</td>\n",
              "      <td>-0.013257</td>\n",
              "      <td>0.999997</td>\n",
              "      <td>0.999999</td>\n",
              "      <td>1.000000</td>\n",
              "      <td>0.999995</td>\n",
              "      <td>0.999975</td>\n",
              "      <td>0.999942</td>\n",
              "      <td>0.999895</td>\n",
              "      <td>0.999834</td>\n",
              "      <td>...</td>\n",
              "      <td>0.019840</td>\n",
              "      <td>0.020042</td>\n",
              "      <td>0.021562</td>\n",
              "      <td>0.021344</td>\n",
              "      <td>0.017655</td>\n",
              "      <td>0.016723</td>\n",
              "      <td>0.016482</td>\n",
              "      <td>0.017209</td>\n",
              "      <td>0.018076</td>\n",
              "      <td>0.015479</td>\n",
              "    </tr>\n",
              "    <tr>\n",
              "      <th>...</th>\n",
              "      <td>...</td>\n",
              "      <td>...</td>\n",
              "      <td>...</td>\n",
              "      <td>...</td>\n",
              "      <td>...</td>\n",
              "      <td>...</td>\n",
              "      <td>...</td>\n",
              "      <td>...</td>\n",
              "      <td>...</td>\n",
              "      <td>...</td>\n",
              "      <td>...</td>\n",
              "      <td>...</td>\n",
              "      <td>...</td>\n",
              "      <td>...</td>\n",
              "      <td>...</td>\n",
              "      <td>...</td>\n",
              "      <td>...</td>\n",
              "      <td>...</td>\n",
              "      <td>...</td>\n",
              "      <td>...</td>\n",
              "      <td>...</td>\n",
              "    </tr>\n",
              "    <tr>\n",
              "      <th>m7269</th>\n",
              "      <td>-0.020715</td>\n",
              "      <td>-0.021497</td>\n",
              "      <td>0.016762</td>\n",
              "      <td>0.016743</td>\n",
              "      <td>0.016723</td>\n",
              "      <td>0.016752</td>\n",
              "      <td>0.016788</td>\n",
              "      <td>0.016824</td>\n",
              "      <td>0.016860</td>\n",
              "      <td>0.016896</td>\n",
              "      <td>...</td>\n",
              "      <td>0.953552</td>\n",
              "      <td>0.963116</td>\n",
              "      <td>0.971495</td>\n",
              "      <td>0.976781</td>\n",
              "      <td>0.988436</td>\n",
              "      <td>1.000000</td>\n",
              "      <td>0.998888</td>\n",
              "      <td>0.995582</td>\n",
              "      <td>0.989391</td>\n",
              "      <td>-0.020166</td>\n",
              "    </tr>\n",
              "    <tr>\n",
              "      <th>m7270</th>\n",
              "      <td>-0.021080</td>\n",
              "      <td>-0.021826</td>\n",
              "      <td>0.016521</td>\n",
              "      <td>0.016501</td>\n",
              "      <td>0.016482</td>\n",
              "      <td>0.016510</td>\n",
              "      <td>0.016547</td>\n",
              "      <td>0.016583</td>\n",
              "      <td>0.016619</td>\n",
              "      <td>0.016655</td>\n",
              "      <td>...</td>\n",
              "      <td>0.950901</td>\n",
              "      <td>0.960470</td>\n",
              "      <td>0.968903</td>\n",
              "      <td>0.974295</td>\n",
              "      <td>0.986198</td>\n",
              "      <td>0.998888</td>\n",
              "      <td>1.000000</td>\n",
              "      <td>0.998576</td>\n",
              "      <td>0.993610</td>\n",
              "      <td>-0.019817</td>\n",
              "    </tr>\n",
              "    <tr>\n",
              "      <th>m7271</th>\n",
              "      <td>-0.022103</td>\n",
              "      <td>-0.022849</td>\n",
              "      <td>0.017248</td>\n",
              "      <td>0.017229</td>\n",
              "      <td>0.017209</td>\n",
              "      <td>0.017238</td>\n",
              "      <td>0.017274</td>\n",
              "      <td>0.017311</td>\n",
              "      <td>0.017347</td>\n",
              "      <td>0.017382</td>\n",
              "      <td>...</td>\n",
              "      <td>0.946550</td>\n",
              "      <td>0.956113</td>\n",
              "      <td>0.964587</td>\n",
              "      <td>0.970068</td>\n",
              "      <td>0.982188</td>\n",
              "      <td>0.995582</td>\n",
              "      <td>0.998576</td>\n",
              "      <td>1.000000</td>\n",
              "      <td>0.996676</td>\n",
              "      <td>-0.018637</td>\n",
              "    </tr>\n",
              "    <tr>\n",
              "      <th>m7272</th>\n",
              "      <td>-0.023618</td>\n",
              "      <td>-0.024338</td>\n",
              "      <td>0.018115</td>\n",
              "      <td>0.018095</td>\n",
              "      <td>0.018076</td>\n",
              "      <td>0.018104</td>\n",
              "      <td>0.018141</td>\n",
              "      <td>0.018177</td>\n",
              "      <td>0.018213</td>\n",
              "      <td>0.018249</td>\n",
              "      <td>...</td>\n",
              "      <td>0.939850</td>\n",
              "      <td>0.949219</td>\n",
              "      <td>0.957735</td>\n",
              "      <td>0.963255</td>\n",
              "      <td>0.975514</td>\n",
              "      <td>0.989391</td>\n",
              "      <td>0.993610</td>\n",
              "      <td>0.996676</td>\n",
              "      <td>1.000000</td>\n",
              "      <td>-0.015994</td>\n",
              "    </tr>\n",
              "    <tr>\n",
              "      <th>DtoA</th>\n",
              "      <td>-0.287612</td>\n",
              "      <td>-0.287965</td>\n",
              "      <td>0.015460</td>\n",
              "      <td>0.015470</td>\n",
              "      <td>0.015479</td>\n",
              "      <td>0.015556</td>\n",
              "      <td>0.015645</td>\n",
              "      <td>0.015733</td>\n",
              "      <td>0.015821</td>\n",
              "      <td>0.015909</td>\n",
              "      <td>...</td>\n",
              "      <td>-0.023277</td>\n",
              "      <td>-0.023080</td>\n",
              "      <td>-0.021557</td>\n",
              "      <td>-0.021899</td>\n",
              "      <td>-0.020393</td>\n",
              "      <td>-0.020166</td>\n",
              "      <td>-0.019817</td>\n",
              "      <td>-0.018637</td>\n",
              "      <td>-0.015994</td>\n",
              "      <td>1.000000</td>\n",
              "    </tr>\n",
              "  </tbody>\n",
              "</table>\n",
              "<p>4883 rows × 4883 columns</p>\n",
              "</div>\n",
              "      <button class=\"colab-df-convert\" onclick=\"convertToInteractive('df-7f958dd5-1617-465a-b509-bddd4a15ca58')\"\n",
              "              title=\"Convert this dataframe to an interactive table.\"\n",
              "              style=\"display:none;\">\n",
              "        \n",
              "  <svg xmlns=\"http://www.w3.org/2000/svg\" height=\"24px\"viewBox=\"0 0 24 24\"\n",
              "       width=\"24px\">\n",
              "    <path d=\"M0 0h24v24H0V0z\" fill=\"none\"/>\n",
              "    <path d=\"M18.56 5.44l.94 2.06.94-2.06 2.06-.94-2.06-.94-.94-2.06-.94 2.06-2.06.94zm-11 1L8.5 8.5l.94-2.06 2.06-.94-2.06-.94L8.5 2.5l-.94 2.06-2.06.94zm10 10l.94 2.06.94-2.06 2.06-.94-2.06-.94-.94-2.06-.94 2.06-2.06.94z\"/><path d=\"M17.41 7.96l-1.37-1.37c-.4-.4-.92-.59-1.43-.59-.52 0-1.04.2-1.43.59L10.3 9.45l-7.72 7.72c-.78.78-.78 2.05 0 2.83L4 21.41c.39.39.9.59 1.41.59.51 0 1.02-.2 1.41-.59l7.78-7.78 2.81-2.81c.8-.78.8-2.07 0-2.86zM5.41 20L4 18.59l7.72-7.72 1.47 1.35L5.41 20z\"/>\n",
              "  </svg>\n",
              "      </button>\n",
              "      \n",
              "  <style>\n",
              "    .colab-df-container {\n",
              "      display:flex;\n",
              "      flex-wrap:wrap;\n",
              "      gap: 12px;\n",
              "    }\n",
              "\n",
              "    .colab-df-convert {\n",
              "      background-color: #E8F0FE;\n",
              "      border: none;\n",
              "      border-radius: 50%;\n",
              "      cursor: pointer;\n",
              "      display: none;\n",
              "      fill: #1967D2;\n",
              "      height: 32px;\n",
              "      padding: 0 0 0 0;\n",
              "      width: 32px;\n",
              "    }\n",
              "\n",
              "    .colab-df-convert:hover {\n",
              "      background-color: #E2EBFA;\n",
              "      box-shadow: 0px 1px 2px rgba(60, 64, 67, 0.3), 0px 1px 3px 1px rgba(60, 64, 67, 0.15);\n",
              "      fill: #174EA6;\n",
              "    }\n",
              "\n",
              "    [theme=dark] .colab-df-convert {\n",
              "      background-color: #3B4455;\n",
              "      fill: #D2E3FC;\n",
              "    }\n",
              "\n",
              "    [theme=dark] .colab-df-convert:hover {\n",
              "      background-color: #434B5C;\n",
              "      box-shadow: 0px 1px 3px 1px rgba(0, 0, 0, 0.15);\n",
              "      filter: drop-shadow(0px 1px 2px rgba(0, 0, 0, 0.3));\n",
              "      fill: #FFFFFF;\n",
              "    }\n",
              "  </style>\n",
              "\n",
              "      <script>\n",
              "        const buttonEl =\n",
              "          document.querySelector('#df-7f958dd5-1617-465a-b509-bddd4a15ca58 button.colab-df-convert');\n",
              "        buttonEl.style.display =\n",
              "          google.colab.kernel.accessAllowed ? 'block' : 'none';\n",
              "\n",
              "        async function convertToInteractive(key) {\n",
              "          const element = document.querySelector('#df-7f958dd5-1617-465a-b509-bddd4a15ca58');\n",
              "          const dataTable =\n",
              "            await google.colab.kernel.invokeFunction('convertToInteractive',\n",
              "                                                     [key], {});\n",
              "          if (!dataTable) return;\n",
              "\n",
              "          const docLinkHtml = 'Like what you see? Visit the ' +\n",
              "            '<a target=\"_blank\" href=https://colab.research.google.com/notebooks/data_table.ipynb>data table notebook</a>'\n",
              "            + ' to learn more about interactive tables.';\n",
              "          element.innerHTML = '';\n",
              "          dataTable['output_type'] = 'display_data';\n",
              "          await google.colab.output.renderOutput(dataTable, element);\n",
              "          const docLink = document.createElement('div');\n",
              "          docLink.innerHTML = docLinkHtml;\n",
              "          element.appendChild(docLink);\n",
              "        }\n",
              "      </script>\n",
              "    </div>\n",
              "  </div>\n",
              "  "
            ],
            "text/plain": [
              "           Geno_Code       pop        m1        m2        m3        m4  \\\n",
              "Geno_Code   1.000000  0.999206 -0.013451 -0.013422 -0.013394 -0.013399   \n",
              "pop         0.999206  1.000000 -0.013314 -0.013285 -0.013257 -0.013260   \n",
              "m1         -0.013451 -0.013314  1.000000  0.999999  0.999997  0.999988   \n",
              "m2         -0.013422 -0.013285  0.999999  1.000000  0.999999  0.999992   \n",
              "m3         -0.013394 -0.013257  0.999997  0.999999  1.000000  0.999995   \n",
              "...              ...       ...       ...       ...       ...       ...   \n",
              "m7269      -0.020715 -0.021497  0.016762  0.016743  0.016723  0.016752   \n",
              "m7270      -0.021080 -0.021826  0.016521  0.016501  0.016482  0.016510   \n",
              "m7271      -0.022103 -0.022849  0.017248  0.017229  0.017209  0.017238   \n",
              "m7272      -0.023618 -0.024338  0.018115  0.018095  0.018076  0.018104   \n",
              "DtoA       -0.287612 -0.287965  0.015460  0.015470  0.015479  0.015556   \n",
              "\n",
              "                 m5        m6        m7        m8  ...     m7264     m7265  \\\n",
              "Geno_Code -0.013409 -0.013419 -0.013428 -0.013438  ... -0.019159 -0.018285   \n",
              "pop       -0.013269 -0.013278 -0.013286 -0.013294  ... -0.019775 -0.018910   \n",
              "m1         0.999965  0.999929  0.999879  0.999814  ...  0.019879  0.020081   \n",
              "m2         0.999971  0.999937  0.999888  0.999825  ...  0.019859  0.020062   \n",
              "m3         0.999975  0.999942  0.999895  0.999834  ...  0.019840  0.020042   \n",
              "...             ...       ...       ...       ...  ...       ...       ...   \n",
              "m7269      0.016788  0.016824  0.016860  0.016896  ...  0.953552  0.963116   \n",
              "m7270      0.016547  0.016583  0.016619  0.016655  ...  0.950901  0.960470   \n",
              "m7271      0.017274  0.017311  0.017347  0.017382  ...  0.946550  0.956113   \n",
              "m7272      0.018141  0.018177  0.018213  0.018249  ...  0.939850  0.949219   \n",
              "DtoA       0.015645  0.015733  0.015821  0.015909  ... -0.023277 -0.023080   \n",
              "\n",
              "              m7266     m7267     m7268     m7269     m7270     m7271  \\\n",
              "Geno_Code -0.020289 -0.019481 -0.019921 -0.020715 -0.021080 -0.022103   \n",
              "pop       -0.021021 -0.020229 -0.020637 -0.021497 -0.021826 -0.022849   \n",
              "m1         0.021601  0.021383  0.017694  0.016762  0.016521  0.017248   \n",
              "m2         0.021581  0.021364  0.017675  0.016743  0.016501  0.017229   \n",
              "m3         0.021562  0.021344  0.017655  0.016723  0.016482  0.017209   \n",
              "...             ...       ...       ...       ...       ...       ...   \n",
              "m7269      0.971495  0.976781  0.988436  1.000000  0.998888  0.995582   \n",
              "m7270      0.968903  0.974295  0.986198  0.998888  1.000000  0.998576   \n",
              "m7271      0.964587  0.970068  0.982188  0.995582  0.998576  1.000000   \n",
              "m7272      0.957735  0.963255  0.975514  0.989391  0.993610  0.996676   \n",
              "DtoA      -0.021557 -0.021899 -0.020393 -0.020166 -0.019817 -0.018637   \n",
              "\n",
              "              m7272      DtoA  \n",
              "Geno_Code -0.023618 -0.287612  \n",
              "pop       -0.024338 -0.287965  \n",
              "m1         0.018115  0.015460  \n",
              "m2         0.018095  0.015470  \n",
              "m3         0.018076  0.015479  \n",
              "...             ...       ...  \n",
              "m7269      0.989391 -0.020166  \n",
              "m7270      0.993610 -0.019817  \n",
              "m7271      0.996676 -0.018637  \n",
              "m7272      1.000000 -0.015994  \n",
              "DtoA      -0.015994  1.000000  \n",
              "\n",
              "[4883 rows x 4883 columns]"
            ]
          },
          "execution_count": 105,
          "metadata": {},
          "output_type": "execute_result"
        }
      ],
      "source": [
        "corr_mat = data.corr()\n",
        "corr_mat"
      ],
      "id": "vBQ6KXTOhxhq"
    },
    {
      "cell_type": "code",
      "execution_count": null,
      "metadata": {
        "colab": {
          "base_uri": "https://localhost:8080/"
        },
        "id": "8frjDU08i-TE",
        "outputId": "84869e5d-a308-4b70-e94e-2bbe6dab74b6"
      },
      "outputs": [
        {
          "data": {
            "text/plain": [
              "Geno_Code    0.287612\n",
              "pop          0.287965\n",
              "m434         0.136208\n",
              "m435         0.136972\n",
              "m436         0.136267\n",
              "m437         0.136537\n",
              "m438         0.137570\n",
              "m439         0.140707\n",
              "m440         0.138553\n",
              "m441         0.137693\n",
              "m443         0.136460\n",
              "m444         0.137056\n",
              "m445         0.137757\n",
              "m446         0.136362\n",
              "DtoA         1.000000\n",
              "Name: DtoA, dtype: float64"
            ]
          },
          "execution_count": 119,
          "metadata": {},
          "output_type": "execute_result"
        }
      ],
      "source": [
        "thres = 0.12\n",
        "a = abs(corr_mat['DtoA'])\n",
        "res = a[a>0.136]\n",
        "res"
      ],
      "id": "8frjDU08i-TE"
    },
    {
      "cell_type": "code",
      "execution_count": null,
      "metadata": {
        "colab": {
          "base_uri": "https://localhost:8080/",
          "height": 654
        },
        "id": "O3ZvfrQRmruG",
        "outputId": "85cf404c-66e3-4fae-deea-17f0379474df"
      },
      "outputs": [
        {
          "data": {
            "image/png": "[encoded data removed]",
            "text/plain": [
              "<Figure size 1440x720 with 1 Axes>"
            ]
          },
          "metadata": {},
          "output_type": "display_data"
        }
      ],
      "source": [
        "p1 = res.plot(kind='bar', title='Feature importance',figsize=(20, 10))"
      ],
      "id": "O3ZvfrQRmruG"
    }
  ],
  "metadata": {
    "colab": {
      "provenance": [],
      "include_colab_link": true
    },
    "kernelspec": {
      "display_name": "Python 3 (ipykernel)",
      "language": "python",
      "name": "python3"
    },
    "language_info": {
      "codemirror_mode": {
        "name": "ipython",
        "version": 3
      },
      "file_extension": ".py",
      "mimetype": "text/x-python",
      "name": "python",
      "nbconvert_exporter": "python",
      "pygments_lexer": "ipython3",
      "version": "3.9.13"
    }
  },
  "nbformat": 4,
  "nbformat_minor": 5
}